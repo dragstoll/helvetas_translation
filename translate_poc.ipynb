{
 "cells": [
  {
   "cell_type": "code",
   "execution_count": 1,
   "metadata": {},
   "outputs": [
    {
     "ename": "ModuleNotFoundError",
     "evalue": "No module named 'matplotlib'",
     "output_type": "error",
     "traceback": [
      "\u001b[0;31m---------------------------------------------------------------------------\u001b[0m",
      "\u001b[0;31mModuleNotFoundError\u001b[0m                       Traceback (most recent call last)",
      "Cell \u001b[0;32mIn[1], line 8\u001b[0m\n\u001b[1;32m      5\u001b[0m \u001b[38;5;28;01mimport\u001b[39;00m \u001b[38;5;21;01mpandas\u001b[39;00m \u001b[38;5;28;01mas\u001b[39;00m \u001b[38;5;21;01mpd\u001b[39;00m\n\u001b[1;32m      7\u001b[0m \u001b[38;5;28;01mimport\u001b[39;00m \u001b[38;5;21;01msklearn\u001b[39;00m\n\u001b[0;32m----> 8\u001b[0m \u001b[38;5;28;01mimport\u001b[39;00m \u001b[38;5;21;01mmatplotlib\u001b[39;00m\u001b[38;5;21;01m.\u001b[39;00m\u001b[38;5;21;01mpyplot\u001b[39;00m \u001b[38;5;28;01mas\u001b[39;00m \u001b[38;5;21;01mplt\u001b[39;00m\n\u001b[1;32m      9\u001b[0m \u001b[38;5;66;03m# import eli5\u001b[39;00m\n\u001b[1;32m     11\u001b[0m \u001b[38;5;28;01mfrom\u001b[39;00m \u001b[38;5;21;01msklearn\u001b[39;00m\u001b[38;5;21;01m.\u001b[39;00m\u001b[38;5;21;01mmodel_selection\u001b[39;00m \u001b[38;5;28;01mimport\u001b[39;00m train_test_split\n",
      "\u001b[0;31mModuleNotFoundError\u001b[0m: No module named 'matplotlib'"
     ]
    }
   ],
   "source": [
    "import csv\n",
    "import re\n",
    "\n",
    "import numpy as np\n",
    "import pandas as pd\n",
    "\n",
    "import sklearn\n",
    "import matplotlib.pyplot as plt\n",
    "# import eli5\n",
    "\n",
    "from sklearn.model_selection import train_test_split\n",
    "from sklearn.model_selection import GridSearchCV\n",
    "from sklearn.metrics import zero_one_loss\n",
    "from sklearn.linear_model import LogisticRegression\n",
    "from sklearn.metrics import confusion_matrix\n",
    "from sklearn.metrics import multilabel_confusion_matrix\n",
    "\n",
    "from sklearn.metrics import SCORERS\n",
    "# import wehs_helpers as wh"
   ]
  },
  {
   "cell_type": "code",
   "execution_count": null,
   "metadata": {},
   "outputs": [],
   "source": [
    "bosnian_df = pd.read_csv('bosnian.csv',delimiter=';',encoding=\"utf8\")"
   ]
  },
  {
   "cell_type": "code",
   "execution_count": null,
   "metadata": {},
   "outputs": [],
   "source": [
    "bosnian_df[:5]"
   ]
  },
  {
   "cell_type": "code",
   "execution_count": null,
   "metadata": {},
   "outputs": [],
   "source": [
    "bosnian_df_transpon=bosnian_df.transpose()"
   ]
  },
  {
   "cell_type": "code",
   "execution_count": null,
   "metadata": {},
   "outputs": [],
   "source": [
    "bosnian_df_transpon[:]"
   ]
  },
  {
   "cell_type": "code",
   "execution_count": null,
   "metadata": {},
   "outputs": [],
   "source": []
  },
  {
   "cell_type": "code",
   "execution_count": null,
   "metadata": {},
   "outputs": [],
   "source": [
    "# bosnian_df_transpon['index'] = bosnian_df_transpon.index\n",
    "bosnian_df_transpon2=bosnian_df_transpon.reset_index()\n",
    "bosnian_df_transpon2"
   ]
  },
  {
   "cell_type": "code",
   "execution_count": null,
   "metadata": {},
   "outputs": [],
   "source": [
    "bosnian_df_transpon2=bosnian_df_transpon2.rename(columns={\"index\": \"q\", 0: \"a1\", 1: \"a2\", 2: \"a3\", 3: \"a4\", 4: \"a5\", 5: \"a6\"})"
   ]
  },
  {
   "cell_type": "code",
   "execution_count": null,
   "metadata": {},
   "outputs": [],
   "source": [
    "print(list(bosnian_df_transpon2.columns))"
   ]
  },
  {
   "cell_type": "code",
   "execution_count": null,
   "metadata": {},
   "outputs": [],
   "source": [
    "bosnian_df_transpon2"
   ]
  },
  {
   "cell_type": "code",
   "execution_count": null,
   "metadata": {},
   "outputs": [],
   "source": [
    "qdf=pd.DataFrame(bosnian_df_transpon2[\"q\"]).copy()\n",
    "print(list(qdf.columns))\n",
    "qdf=qdf.rename(columns={\"q\": \"text_input\"})\n",
    "qdf.loc[:, 'text_label'] = 'question'+qdf.index.astype(str)\n",
    "qdf"
   ]
  },
  {
   "cell_type": "code",
   "execution_count": null,
   "metadata": {},
   "outputs": [],
   "source": [
    "a1df=pd.DataFrame(bosnian_df_transpon2[\"a1\"]).copy()\n",
    "print(list(a1df.columns))\n",
    "a1df=a1df.rename(columns={\"a1\": \"text_input\"})\n",
    "a1df.loc[:, 'text_label'] = 'question'+qdf.index.astype(str)+'_answer1'\n",
    "a1df"
   ]
  },
  {
   "cell_type": "code",
   "execution_count": null,
   "metadata": {},
   "outputs": [],
   "source": [
    "a2df=pd.DataFrame(bosnian_df_transpon2[\"a2\"]).copy()\n",
    "a2df=a2df.rename(columns={\"a2\": \"text_input\"})\n",
    "a2df.loc[:, 'text_label'] = 'question'+qdf.index.astype(str)+'_answer2'\n",
    "\n",
    "a3df=pd.DataFrame(bosnian_df_transpon2[\"a3\"]).copy()\n",
    "a3df=a3df.rename(columns={\"a3\": \"text_input\"})\n",
    "a3df.loc[:, 'text_label'] = 'question'+qdf.index.astype(str)+'_answer3'\n",
    "\n",
    "a4df=pd.DataFrame(bosnian_df_transpon2[\"a4\"]).copy()\n",
    "a4df=a4df.rename(columns={\"a4\": \"text_input\"})\n",
    "a4df.loc[:, 'text_label'] = 'question'+qdf.index.astype(str)+'_answer4'\n",
    "\n",
    "a5df=pd.DataFrame(bosnian_df_transpon2[\"a5\"]).copy()\n",
    "a5df=a5df.rename(columns={\"a5\": \"text_input\"})\n",
    "a5df.loc[:, 'text_label'] = 'question'+qdf.index.astype(str)+'_answer5'\n",
    "\n",
    "a6df=pd.DataFrame(bosnian_df_transpon2[\"a6\"]).copy()\n",
    "a6df=a6df.rename(columns={\"a6\": \"text_input\"})\n",
    "a6df.loc[:, 'text_label'] = 'question'+qdf.index.astype(str)+'_answer6'\n"
   ]
  },
  {
   "cell_type": "code",
   "execution_count": null,
   "metadata": {},
   "outputs": [],
   "source": [
    "to_translate_df = pd.concat([qdf,a1df,a2df,a3df,a4df,a5df,a6df], ignore_index=True)\n",
    "to_translate_df[:50]"
   ]
  },
  {
   "cell_type": "code",
   "execution_count": null,
   "metadata": {},
   "outputs": [],
   "source": [
    "# !pip install nlpcloud"
   ]
  }
 ],
 "metadata": {
  "kernelspec": {
   "display_name": "Python 3 (ipykernel)",
   "language": "python",
   "name": "python3"
  },
  "language_info": {
   "codemirror_mode": {
    "name": "ipython",
    "version": 3
   },
   "file_extension": ".py",
   "mimetype": "text/x-python",
   "name": "python",
   "nbconvert_exporter": "python",
   "pygments_lexer": "ipython3",
   "version": "3.11.2"
  }
 },
 "nbformat": 4,
 "nbformat_minor": 2
}
